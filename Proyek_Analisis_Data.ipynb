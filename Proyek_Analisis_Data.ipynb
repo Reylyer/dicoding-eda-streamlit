{
  "cells": [
    {
      "cell_type": "markdown",
      "metadata": {
        "id": "H9wADwK78DCz"
      },
      "source": [
        "# Proyek Analisis Data: [Input Nama Dataset]\n",
        "- **Nama:** Givandra Haikal Adjie\n",
        "- **Email:** givhaikal@gmail.com\n",
        "- **ID Dicoding:** givandra_haikal_Il2s"
      ]
    },
    {
      "cell_type": "markdown",
      "metadata": {
        "id": "eE0raob58DC0"
      },
      "source": [
        "## Menentukan Pertanyaan Bisnis"
      ]
    },
    {
      "cell_type": "markdown",
      "metadata": {
        "id": "GmQeQ5YF8DC0"
      },
      "source": [
        "- Pada masa atau rentang waktu apakah rental sepeda sangat laku?\n",
        "- Bagaimana pengaruh cuaca (suhu, angin, dan kelembaban) terhadap banyaknya rental sepeda?"
      ]
    },
    {
      "cell_type": "markdown",
      "metadata": {
        "id": "H-z4QGlO8DC1"
      },
      "source": [
        "## Import Semua Packages/Library yang Digunakan"
      ]
    },
    {
      "cell_type": "code",
      "execution_count": null,
      "metadata": {
        "id": "FVYwaObI8DC1"
      },
      "outputs": [],
      "source": [
        "import pandas as pd\n",
        "import plotly.express as px\n",
        "from IPython.display import Markdown \n",
        "import datetime as dt"
      ]
    },
    {
      "cell_type": "markdown",
      "metadata": {
        "id": "h_Sh51Xy8DC1"
      },
      "source": [
        "## Data Wrangling"
      ]
    },
    {
      "cell_type": "markdown",
      "metadata": {
        "id": "sXU2GBYu8DC1"
      },
      "source": [
        "### Gathering Data"
      ]
    },
    {
      "cell_type": "markdown",
      "metadata": {},
      "source": [
        "Dataset: bike sharing\n",
        "\n",
        "The dataset contains 2 files:\n",
        "- hour.csv : bike sharing counts aggregated on hourly basis. Records: 17379 hours\n",
        "- day.csv : bike sharing counts aggregated on daily basis. Records: 731 days\n",
        "\n",
        "From the readme file, both hour.csv and day.csv have the following fields, except hr which is not available in day.csv\n",
        "\t\n",
        "- `instant`: record index\n",
        "- `dteday` : date\n",
        "- `season` : season (1:spring, 2:summer, 3:fall, 4:winter)\n",
        "- `yr` : year (0: 2011, 1:2012)\n",
        "- `mnth` : month ( 1 to 12)\n",
        "- `hr` : hour (0 to 23)\n",
        "- `holiday` : weather day is holiday or not (extracted from http://dchr.dc.gov/page/holiday-schedule)\n",
        "- `weekday` : day of the week\n",
        "- `workingday` : if day is neither weekend nor holiday is 1, otherwise is 0.\n",
        "- ` weathersit` : \n",
        "\t- 1: Clear, Few clouds, Partly cloudy, Partly cloudy\n",
        "\t- 2: Mist + Cloudy, Mist + Broken clouds, Mist + Few clouds, Mist\n",
        "\t- 3: Light Snow, Light Rain + Thunderstorm + Scattered clouds, Light Rain + Scattered clouds\n",
        "\t- 4: Heavy Rain + Ice Pallets + Thunderstorm + Mist, Snow + Fog\n",
        "- `temp` : Normalized temperature in Celsius. The values are divided to 41 (max)\n",
        "- `atemp`: Normalized feeling temperature in Celsius. The values are divided to 50 (max)\n",
        "- `hum`: Normalized humidity. The values are divided to 100 (max)\n",
        "- `windspeed`: Normalized wind speed. The values are divided to 67 (max)\n",
        "- `casual`: count of casual users\n",
        "- `registered`: count of registered users\n",
        "- `cnt`: count of total rental bikes including both casual and registered"
      ]
    },
    {
      "cell_type": "code",
      "execution_count": null,
      "metadata": {
        "id": "zjCBk1BI8DC1"
      },
      "outputs": [],
      "source": [
        "# - hour.csv : bike sharing counts aggregated on hourly basis. Records: 17379 hours\n",
        "# - day.csv : bike sharing counts aggregated on daily basis. Records: 731 days\n",
        "\n",
        "df_day  = pd.read_csv('dataset/day.csv')\n",
        "#df_hour = pd.read_csv('dataset/hour.csv')\n",
        "\n",
        "display(Markdown(\"## Day\"))\n",
        "display(df_day)\n",
        "\n",
        "# display(Markdown(\"## Hour\"))\n",
        "# display(df_hour)"
      ]
    },
    {
      "cell_type": "markdown",
      "metadata": {},
      "source": [
        "Dari hasil load dataset ini, jumlah row dan kolom kolomnya sudah sesuai dengan yang tertulis di Readme.md. Saya akan melanjutkan analisis untuk dataset daily agar lebih simpel"
      ]
    },
    {
      "cell_type": "markdown",
      "metadata": {
        "id": "FHSiqaZp8DC1"
      },
      "source": [
        "### Assessing Data"
      ]
    },
    {
      "cell_type": "markdown",
      "metadata": {},
      "source": [
        "Mengecek informasi dataframe"
      ]
    },
    {
      "cell_type": "code",
      "execution_count": null,
      "metadata": {},
      "outputs": [],
      "source": [
        "df_day.info()"
      ]
    },
    {
      "cell_type": "markdown",
      "metadata": {},
      "source": [
        "Kita menemukan dataset tidak memiliki nilai kosong untuk semua kolom yang ada"
      ]
    },
    {
      "cell_type": "code",
      "execution_count": null,
      "metadata": {},
      "outputs": [],
      "source": [
        "df_day.duplicated().sum()"
      ]
    },
    {
      "cell_type": "markdown",
      "metadata": {},
      "source": [
        "Dataset juga tidak memiliki row yang duplikat"
      ]
    },
    {
      "cell_type": "code",
      "execution_count": null,
      "metadata": {},
      "outputs": [],
      "source": [
        "df_day.head()"
      ]
    },
    {
      "cell_type": "markdown",
      "metadata": {},
      "source": [
        "Mengecek outliers"
      ]
    },
    {
      "cell_type": "code",
      "execution_count": null,
      "metadata": {},
      "outputs": [],
      "source": [
        "Q1 = df_day['cnt'].quantile(0.25)\n",
        "Q3 = df_day['cnt'].quantile(0.75)\n",
        "IQR = Q3 - Q1\n",
        "\n",
        "lower_bound = Q1 - 1.5 * IQR\n",
        "upper_bound = Q3 + 1.5 * IQR\n",
        "\n",
        "# Identify the outliers\n",
        "outliers = df_day[(df_day['cnt'] < lower_bound) | (df_day['cnt'] > upper_bound)]\n",
        "outliers"
      ]
    },
    {
      "cell_type": "code",
      "execution_count": null,
      "metadata": {},
      "outputs": [],
      "source": [
        "print(f\"{lower_bound= }\")\n",
        "print(f\"{upper_bound= }\")\n",
        "print(\"Minimal\", df_day['cnt'].min())\n",
        "print(\"Maximal\", df_day['cnt'].max())"
      ]
    },
    {
      "cell_type": "markdown",
      "metadata": {},
      "source": [
        "Dataset juga tidak mempunyai outlier, semua data masuk kedalam IQR"
      ]
    },
    {
      "cell_type": "markdown",
      "metadata": {
        "id": "EhN5R4hr8DC1"
      },
      "source": [
        "### Cleaning Data"
      ]
    },
    {
      "cell_type": "markdown",
      "metadata": {},
      "source": [
        "Dataset sudah cukup bersih untuk dilakukan analisis lebih lanjut. Saya akan mengubah nilai data saja dari bentuk angka menjadi bentuk stringnya"
      ]
    },
    {
      "cell_type": "code",
      "execution_count": null,
      "metadata": {},
      "outputs": [],
      "source": [
        "df_day = df_day.replace({\n",
        "    'season' :{ 1: 'Spring', 2: 'Summer', 3: 'Fall', 4: 'Winter'},\n",
        "    'weekday':{0:'Monday', 1:'Tuesday', 2:'Wednesday', 3:'Thursday', 4:'Friday', 5:'Saturday', 6:'Sunday'},\n",
        "    'yr' : {0: 2011, 1: 2012 }\n",
        "})"
      ]
    },
    {
      "cell_type": "code",
      "execution_count": null,
      "metadata": {},
      "outputs": [],
      "source": [
        "df_day.head()"
      ]
    },
    {
      "cell_type": "markdown",
      "metadata": {
        "id": "gp-Y6wU38DC1"
      },
      "source": [
        "## Exploratory Data Analysis (EDA)"
      ]
    },
    {
      "cell_type": "markdown",
      "metadata": {
        "id": "MW7WF2kr8DC1"
      },
      "source": [
        "### Explore ..."
      ]
    },
    {
      "cell_type": "code",
      "execution_count": null,
      "metadata": {
        "id": "e9CQCZjk8DC2"
      },
      "outputs": [],
      "source": [
        "df_day.describe()"
      ]
    },
    {
      "cell_type": "code",
      "execution_count": null,
      "metadata": {},
      "outputs": [],
      "source": [
        "season_data = df_day.groupby(['season', 'yr']).agg({\n",
        "    'cnt': 'sum'\n",
        "}).reset_index(level=[0,1])\n",
        "\n",
        "# season_data.columns\n",
        "px.histogram(season_data, x='season', y='cnt', color='yr', barmode='group', \n",
        "             title=\"Banyak rental sepeda per musim\")"
      ]
    },
    {
      "cell_type": "code",
      "execution_count": null,
      "metadata": {},
      "outputs": [],
      "source": [
        "weather_data = df_day.groupby(['season', 'yr', 'weathersit']).count().reset_index(level=[0,1,2])\n",
        "\n",
        "# weather_data\n",
        "px.histogram(weather_data, x='season', y='cnt', color='weathersit', barmode='group', \n",
        "             title=\"Kondisi cuaca per musim\").update_layout(\n",
        "             xaxis_title=\"Season\", \n",
        "             yaxis_title=\"Count\",\n",
        ")"
      ]
    },
    {
      "cell_type": "code",
      "execution_count": null,
      "metadata": {},
      "outputs": [],
      "source": [
        "week_data = df_day.groupby(['weekday']).agg({\n",
        "    'cnt': 'sum'\n",
        "}).reset_index()\n",
        "\n",
        "px.bar(week_data, x='weekday', y='cnt' )"
      ]
    },
    {
      "cell_type": "code",
      "execution_count": null,
      "metadata": {},
      "outputs": [],
      "source": [
        "px.scatter(df_day, x='temp', y='cnt', )"
      ]
    },
    {
      "cell_type": "code",
      "execution_count": null,
      "metadata": {},
      "outputs": [],
      "source": [
        "px.scatter(df_day, x='windspeed', y='cnt', )\n"
      ]
    },
    {
      "cell_type": "code",
      "execution_count": null,
      "metadata": {},
      "outputs": [],
      "source": [
        "px.scatter(df_day, x='hum', y='cnt', )"
      ]
    },
    {
      "cell_type": "markdown",
      "metadata": {
        "id": "zsyZjqak8DC2"
      },
      "source": [
        "## Visualization & Explanatory Analysis"
      ]
    },
    {
      "cell_type": "markdown",
      "metadata": {
        "id": "HZxOiQ6n8DC2"
      },
      "source": [
        "### Pertanyaan 1:\n",
        "Pada masa atau rentang waktu apakah rental sepeda sangat laku?"
      ]
    },
    {
      "cell_type": "code",
      "execution_count": null,
      "metadata": {
        "id": "1swJUdAD8DC2"
      },
      "outputs": [],
      "source": [
        "px.histogram(season_data, x='season', y='cnt', color='yr', barmode='group', \n",
        "             title=\"Banyak rental sepeda per musim\")"
      ]
    },
    {
      "cell_type": "markdown",
      "metadata": {},
      "source": [
        "Dari explorasi di atas, temuan menarik ditemukan rental sepeda paling laku dimusim gugur. Ini dimungkinkan dikarenakan suhu yang nyaman untuk bersepeda di luar, tidak terlalu panas dan tidak terlalu dingin. Kita juga menemmukan musim semi sebagai musim yang paling sepi aktivitas rental sepeda. Ini mungkin dikarenakan curah hujan yang cukup tinggi. "
      ]
    },
    {
      "cell_type": "markdown",
      "metadata": {},
      "source": [
        "Dibawah ini merupakan plot untuk keadaan cuaca sepanjang musim"
      ]
    },
    {
      "cell_type": "code",
      "execution_count": null,
      "metadata": {},
      "outputs": [],
      "source": [
        "px.histogram(weather_data, x='season', y='cnt', color='weathersit', barmode='group', \n",
        "             title=\"Kondisi cuaca per musim\").update_layout(\n",
        "             xaxis_title=\"Season\", \n",
        "             yaxis_title=\"Count\",\n",
        ")"
      ]
    },
    {
      "cell_type": "markdown",
      "metadata": {},
      "source": [
        "Kita melihat musim gugur sebagai musim dengan kondisi cuaca yang paling ideal untuk bersepeda dimana banyak hari tidak hujan atau mendung. Jika kita perhatikan musim semi dengan musim panas dan musim dingin, kita tidak melihat begitu perbedaan. Kemungkinan ada alasan lain mengapa musim semi memiliki minat bersepeda yang lebih rendah dari musim lainnya."
      ]
    },
    {
      "cell_type": "markdown",
      "metadata": {
        "id": "DgHI7CiU8DC2"
      },
      "source": [
        "### Pertanyaan 2:\n",
        "Bagaimana pengaruh cuaca (suhu, angin, dan kelembaban) terhadap banyaknya rental sepeda?"
      ]
    },
    {
      "cell_type": "code",
      "execution_count": null,
      "metadata": {
        "id": "Go0lCsvO8DC2"
      },
      "outputs": [],
      "source": [
        "display(px.scatter(df_day, x='temp', y='cnt', title='Temperatur vs Jumlah rental sepeda').update_layout(\n",
        "             xaxis_title=\"Temperatur\", \n",
        "             yaxis_title=\"Jumlah\",\n",
        "))\n",
        "display(px.scatter(df_day, x='windspeed', y='cnt', title='Kecepatan angin vs Jumlah rental sepeda').update_layout(\n",
        "             xaxis_title=\"Kecepatan angin\", \n",
        "             yaxis_title=\"Jumlah\"\n",
        "))\n",
        "display(px.scatter(df_day, x='hum', y='cnt', title='Kelembaban vs Jumlah rental sepeda').update_layout(\n",
        "             xaxis_title=\"Kelembaban\", \n",
        "             yaxis_title=\"Jumlah\"\n",
        "))"
      ]
    },
    {
      "cell_type": "markdown",
      "metadata": {},
      "source": [
        "Dari ketiga parameter yang diduga memiliki pengaruh ke jumlah rental sepeda, kita menemukan hanya temperatur yang memiliki korelasi kuat dengan jumlah rental sepeda. Dua parameter lain, kecepatan angin dan kelembaban tidak begitu terlihat korelasinya dan terlihat random. Untuk temperatur, parameter ini berkorelasi positif dengan jumlah rental sepeda. Namun, jika dilihat lebih lanjut, ada titik yang menjadi titik putar balik dimana lebih dari suhu ini akan menjadi terlalu panas dan rental sepeda menjadi berkurang. "
      ]
    },
    {
      "cell_type": "markdown",
      "metadata": {
        "id": "_WeHlCeX8DC2"
      },
      "source": [
        "## Conclusion"
      ]
    },
    {
      "cell_type": "markdown",
      "metadata": {
        "id": "ZTcyR48Y8DC2"
      },
      "source": [
        "- Kita menemukan bahwa musim gugur adalah musim dengan minat bersepeda paling tinggi dan musim semi merupakan musim yang kurang diminati untuk bersepeda\n",
        "- Parameter cuaca yang paling berpengaruh ke jumlah rental sepeda adalah suhu. Parameter lain seperti angin dan kelembaban memiliki korelasi yang lemah. Suhu yang hangat lebih diminati untuk menjadi hari untuk bersepeda."
      ]
    }
  ],
  "metadata": {
    "colab": {
      "provenance": []
    },
    "kernelspec": {
      "display_name": "Python 3",
      "language": "python",
      "name": "python3"
    },
    "language_info": {
      "codemirror_mode": {
        "name": "ipython",
        "version": 3
      },
      "file_extension": ".py",
      "mimetype": "text/x-python",
      "name": "python",
      "nbconvert_exporter": "python",
      "pygments_lexer": "ipython3",
      "version": "3.11.7"
    },
    "orig_nbformat": 4,
    "vscode": {
      "interpreter": {
        "hash": "972b3bf27e332e87b5379f2791f6ef9dfc79c71018c370b0d7423235e20fe4d7"
      }
    }
  },
  "nbformat": 4,
  "nbformat_minor": 0
}
